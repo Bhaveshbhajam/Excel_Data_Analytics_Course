{
  "nbformat": 4,
  "nbformat_minor": 0,
  "metadata": {
    "colab": {
      "provenance": [],
      "include_colab_link": true
    },
    "kernelspec": {
      "name": "python3",
      "display_name": "Python 3"
    },
    "language_info": {
      "name": "python"
    }
  },
  "cells": [
    {
      "cell_type": "markdown",
      "metadata": {
        "id": "view-in-github",
        "colab_type": "text"
      },
      "source": [
        "<a href=\"https://colab.research.google.com/github/Bhaveshbhajam/Excel_Data_Analytics_Course/blob/main/CricketPlayers_Data.ipynb\" target=\"_parent\"><img src=\"https://colab.research.google.com/assets/colab-badge.svg\" alt=\"Open In Colab\"/></a>"
      ]
    },
    {
      "cell_type": "markdown",
      "source": [
        "You have been provided with a dataset containing the details of cricket players from various countries who have played in World Cup matches. The link below gives you access to the data for further analysis.\n",
        "\n",
        "url: https://raw.githubusercontent.com/Invact-Abhay/DOE/refs/heads/main/Cricket%20Player%20Details%20-%20Data.csv"
      ],
      "metadata": {
        "id": "ToZWbYAV-89R"
      }
    },
    {
      "cell_type": "markdown",
      "source": [
        "# **PF2.1**"
      ],
      "metadata": {
        "id": "S--6UjtVBGIL"
      }
    },
    {
      "cell_type": "markdown",
      "source": [
        "***Task 1: Import the pandas library.***"
      ],
      "metadata": {
        "id": "zzsOnr4czdbQ"
      }
    },
    {
      "cell_type": "code",
      "source": [
        "import pandas as pd"
      ],
      "metadata": {
        "id": "SErm9MzxRlKW"
      },
      "execution_count": null,
      "outputs": []
    },
    {
      "cell_type": "markdown",
      "source": [
        "***Task 2: Create a DataFrame named 'cpdata' from the given URL and then print the first 5 rows to understand the data.***"
      ],
      "metadata": {
        "id": "uc9DdCWNNNVI"
      }
    },
    {
      "cell_type": "markdown",
      "source": [
        "***Task 3: Retrieve all details of cricketers who have scored 1,500 runs or more.***"
      ],
      "metadata": {
        "id": "MWUpzcV6z6Fr"
      }
    },
    {
      "cell_type": "markdown",
      "source": [
        "***Task 4: Retrieve the details of all Indian cricketers.***"
      ],
      "metadata": {
        "id": "NquoDZGW0b_H"
      }
    },
    {
      "cell_type": "markdown",
      "source": [
        "***Task 5: Retrieve the details of Sri Lankan players whose highest score is greater than 120.***"
      ],
      "metadata": {
        "id": "3MKgV4E11Plu"
      }
    },
    {
      "cell_type": "markdown",
      "source": [
        "***Task 6: Retrieve the details of cricketers who have either played fewer than 15 matches or whose highest score is less than 100.***"
      ],
      "metadata": {
        "id": "dXN9C1pV2b4g"
      }
    },
    {
      "cell_type": "markdown",
      "source": [
        "***Task 7: Retrieve the details of cricketers from England or Bangladesh.***"
      ],
      "metadata": {
        "id": "Jh7iESoMJ-ZH"
      }
    },
    {
      "cell_type": "markdown",
      "source": [
        "***Task 8: Retrieve all the details of the player who has played the maximum number of matches.***"
      ],
      "metadata": {
        "id": "hyHNvpow5GhK"
      }
    },
    {
      "cell_type": "markdown",
      "source": [
        "***Task 9: Retrieve all details of the player who has played the fewest innings.***"
      ],
      "metadata": {
        "id": "V9DJPkbm642y"
      }
    },
    {
      "cell_type": "markdown",
      "source": [
        "***Task 10: Retrieve the details of the players from India or Sri Lanka who have played more than 30 matches.***"
      ],
      "metadata": {
        "id": "LQFqqmFqLmHN"
      }
    },
    {
      "cell_type": "markdown",
      "source": [
        "***Task 11: Find the cricketer who has scored maximum runs.***"
      ],
      "metadata": {
        "id": "fHD2ByYW7unO"
      }
    },
    {
      "cell_type": "markdown",
      "source": [
        "***Task 12: Retrieve the list of Indian cricketers along with the runs they have scored.***"
      ],
      "metadata": {
        "id": "HUyOf6_z9H_W"
      }
    },
    {
      "cell_type": "markdown",
      "source": [
        "# **PF2.2**"
      ],
      "metadata": {
        "id": "7wuxLhg6BBc3"
      }
    },
    {
      "cell_type": "markdown",
      "source": [
        "***Task 13: Sort the data by country names in ascending order.***"
      ],
      "metadata": {
        "id": "X6iW8InLBOPw"
      }
    },
    {
      "cell_type": "markdown",
      "source": [
        "***Task 14: Sort the data by highest score in descending order.***"
      ],
      "metadata": {
        "id": "7urhJ8AUC6N7"
      }
    },
    {
      "cell_type": "markdown",
      "source": [
        "***Task 15: List the top 5 players based on the runs they have scored, with the players who have the highest runs at the top.***"
      ],
      "metadata": {
        "id": "kpCBuS4lDy8J"
      }
    },
    {
      "cell_type": "markdown",
      "source": [
        "***Task 16: Retrieve the details of players from Bangladesh and sort the results by highest score in descending order.***"
      ],
      "metadata": {
        "id": "qfdSG3keThwm"
      }
    },
    {
      "cell_type": "markdown",
      "source": [
        "***Task 17: Find the details of players who have played more than 40 innings and sort the results based on the player's names in alphabetical order.***"
      ],
      "metadata": {
        "id": "ccqqSglHG1hX"
      }
    },
    {
      "cell_type": "markdown",
      "source": [
        "***Task 18: List the top 5 players along with their country based on the runs scored and are from South Africa or Sri Lanka.***"
      ],
      "metadata": {
        "id": "rUfSoJM6VzYQ"
      }
    }
  ]
}